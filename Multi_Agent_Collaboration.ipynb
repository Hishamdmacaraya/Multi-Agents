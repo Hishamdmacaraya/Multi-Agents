{
  "nbformat": 4,
  "nbformat_minor": 0,
  "metadata": {
    "colab": {
      "provenance": [],
      "include_colab_link": true
    },
    "kernelspec": {
      "name": "python3",
      "display_name": "Python 3"
    },
    "language_info": {
      "name": "python"
    }
  },
  "cells": [
    {
      "cell_type": "markdown",
      "metadata": {
        "id": "view-in-github",
        "colab_type": "text"
      },
      "source": [
        "<a href=\"https://colab.research.google.com/github/Hishamdmacaraya/Multi-Agents/blob/main/Multi_Agent_Collaboration.ipynb\" target=\"_parent\"><img src=\"https://colab.research.google.com/assets/colab-badge.svg\" alt=\"Open In Colab\"/></a>"
      ]
    },
    {
      "cell_type": "code",
      "execution_count": null,
      "metadata": {
        "colab": {
          "base_uri": "https://localhost:8080/"
        },
        "id": "xQJpjjhQx_6q",
        "outputId": "4619f1cc-0db8-4947-c56f-f99cbbe62b63"
      },
      "outputs": [
        {
          "output_type": "stream",
          "name": "stdout",
          "text": [
            "Requirement already satisfied: spade in /usr/local/lib/python3.11/dist-packages (4.0.3)\n",
            "Requirement already satisfied: slixmpp>=1.8.5 in /usr/local/lib/python3.11/dist-packages (from spade) (1.10.0)\n",
            "Requirement already satisfied: aiohttp>=3.10.4 in /usr/local/lib/python3.11/dist-packages (from spade) (3.10.4)\n",
            "Requirement already satisfied: aiohttp_jinja2==1.6 in /usr/local/lib/python3.11/dist-packages (from spade) (1.6)\n",
            "Requirement already satisfied: jinja2==3.0.3 in /usr/local/lib/python3.11/dist-packages (from spade) (3.0.3)\n",
            "Requirement already satisfied: jinja2-time==0.2.0 in /usr/local/lib/python3.11/dist-packages (from spade) (0.2.0)\n",
            "Requirement already satisfied: timeago==1.0.16 in /usr/local/lib/python3.11/dist-packages (from spade) (1.0.16)\n",
            "Requirement already satisfied: singletonify==0.2.4 in /usr/local/lib/python3.11/dist-packages (from spade) (0.2.4)\n",
            "Requirement already satisfied: pytz==2022.1 in /usr/local/lib/python3.11/dist-packages (from spade) (2022.1)\n",
            "Requirement already satisfied: pyjabber>=0.1.9 in /usr/local/lib/python3.11/dist-packages (from spade) (0.2.5)\n",
            "Requirement already satisfied: rich>=13.9.4 in /usr/local/lib/python3.11/dist-packages (from spade) (13.9.4)\n",
            "Requirement already satisfied: uvloop>=0.21.0 in /usr/local/lib/python3.11/dist-packages (from spade) (0.21.0)\n",
            "Requirement already satisfied: MarkupSafe>=2.0 in /usr/local/lib/python3.11/dist-packages (from jinja2==3.0.3->spade) (3.0.2)\n",
            "Requirement already satisfied: arrow in /usr/local/lib/python3.11/dist-packages (from jinja2-time==0.2.0->spade) (1.3.0)\n",
            "Requirement already satisfied: aiohappyeyeballs>=2.3.0 in /usr/local/lib/python3.11/dist-packages (from aiohttp>=3.10.4->spade) (2.6.1)\n",
            "Requirement already satisfied: aiosignal>=1.1.2 in /usr/local/lib/python3.11/dist-packages (from aiohttp>=3.10.4->spade) (1.3.2)\n",
            "Requirement already satisfied: attrs>=17.3.0 in /usr/local/lib/python3.11/dist-packages (from aiohttp>=3.10.4->spade) (25.3.0)\n",
            "Requirement already satisfied: frozenlist>=1.1.1 in /usr/local/lib/python3.11/dist-packages (from aiohttp>=3.10.4->spade) (1.6.0)\n",
            "Requirement already satisfied: multidict<7.0,>=4.5 in /usr/local/lib/python3.11/dist-packages (from aiohttp>=3.10.4->spade) (6.4.3)\n",
            "Requirement already satisfied: yarl<2.0,>=1.0 in /usr/local/lib/python3.11/dist-packages (from aiohttp>=3.10.4->spade) (1.20.0)\n",
            "Requirement already satisfied: click==8.1.7 in /usr/local/lib/python3.11/dist-packages (from pyjabber>=0.1.9->spade) (8.1.7)\n",
            "Requirement already satisfied: cryptography==43.0.1 in /usr/local/lib/python3.11/dist-packages (from pyjabber>=0.1.9->spade) (43.0.1)\n",
            "Requirement already satisfied: loguru==0.7.2 in /usr/local/lib/python3.11/dist-packages (from pyjabber>=0.1.9->spade) (0.7.2)\n",
            "Requirement already satisfied: pyyaml~=6.0.2 in /usr/local/lib/python3.11/dist-packages (from pyjabber>=0.1.9->spade) (6.0.2)\n",
            "Requirement already satisfied: cffi>=1.12 in /usr/local/lib/python3.11/dist-packages (from cryptography==43.0.1->pyjabber>=0.1.9->spade) (1.17.1)\n",
            "Requirement already satisfied: markdown-it-py>=2.2.0 in /usr/local/lib/python3.11/dist-packages (from rich>=13.9.4->spade) (3.0.0)\n",
            "Requirement already satisfied: pygments<3.0.0,>=2.13.0 in /usr/local/lib/python3.11/dist-packages (from rich>=13.9.4->spade) (2.19.1)\n",
            "Requirement already satisfied: aiodns>=3.2.0 in /usr/local/lib/python3.11/dist-packages (from slixmpp>=1.8.5->spade) (3.3.0)\n",
            "Requirement already satisfied: pyasn1>=0.6.1 in /usr/local/lib/python3.11/dist-packages (from slixmpp>=1.8.5->spade) (0.6.1)\n",
            "Requirement already satisfied: pyasn1-modules>=0.4.1 in /usr/local/lib/python3.11/dist-packages (from slixmpp>=1.8.5->spade) (0.4.2)\n",
            "Requirement already satisfied: pycares>=4.0.0 in /usr/local/lib/python3.11/dist-packages (from aiodns>=3.2.0->slixmpp>=1.8.5->spade) (4.7.0)\n",
            "Requirement already satisfied: mdurl~=0.1 in /usr/local/lib/python3.11/dist-packages (from markdown-it-py>=2.2.0->rich>=13.9.4->spade) (0.1.2)\n",
            "Requirement already satisfied: idna>=2.0 in /usr/local/lib/python3.11/dist-packages (from yarl<2.0,>=1.0->aiohttp>=3.10.4->spade) (3.10)\n",
            "Requirement already satisfied: propcache>=0.2.1 in /usr/local/lib/python3.11/dist-packages (from yarl<2.0,>=1.0->aiohttp>=3.10.4->spade) (0.3.1)\n",
            "Requirement already satisfied: python-dateutil>=2.7.0 in /usr/local/lib/python3.11/dist-packages (from arrow->jinja2-time==0.2.0->spade) (2.9.0.post0)\n",
            "Requirement already satisfied: types-python-dateutil>=2.8.10 in /usr/local/lib/python3.11/dist-packages (from arrow->jinja2-time==0.2.0->spade) (2.9.0.20241206)\n",
            "Requirement already satisfied: pycparser in /usr/local/lib/python3.11/dist-packages (from cffi>=1.12->cryptography==43.0.1->pyjabber>=0.1.9->spade) (2.22)\n",
            "Requirement already satisfied: six>=1.5 in /usr/local/lib/python3.11/dist-packages (from python-dateutil>=2.7.0->arrow->jinja2-time==0.2.0->spade) (1.17.0)\n"
          ]
        }
      ],
      "source": [
        "!pip install spade"
      ]
    },
    {
      "cell_type": "code",
      "source": [
        "from spade.agent import Agent\n",
        "from spade.behaviour import CyclicBehaviour\n",
        "\n",
        "class ResearcherAgent(Agent):\n",
        "    class ResearchBehaviour(CyclicBehaviour):\n",
        "        async def run(self):\n",
        "            # Implement research behavior\n",
        "            print(\"Researching...\")\n",
        "\n",
        "    async def setup(self):\n",
        "        self.add_behaviour(self.ResearchBehaviour())"
      ],
      "metadata": {
        "id": "2Y1UCdc7yaOF"
      },
      "execution_count": null,
      "outputs": []
    },
    {
      "cell_type": "markdown",
      "source": [
        "Note: To run the `ResearcherAgent`, replace \"researcher@your_xmpp_server\" and \"password\" with valid XMPP server credentials."
      ],
      "metadata": {
        "id": "_ernKyzly-c8"
      }
    },
    {
      "cell_type": "code",
      "source": [
        "class EditorAgent(Agent):\n",
        "    class EditBehaviour(CyclicBehaviour):\n",
        "        async def run(self):\n",
        "            # Implement editing behavior\n",
        "            print(\"Editing...\")\n",
        "\n",
        "    async def setup(self):\n",
        "        self.add_behaviour(self.EditBehaviour())"
      ],
      "metadata": {
        "id": "oxkIuu12ze_1"
      },
      "execution_count": null,
      "outputs": []
    },
    {
      "cell_type": "code",
      "source": [
        "from spade.message import Message\n",
        "\n",
        "class ResearcherAgent(Agent):\n",
        "    class ResearchBehaviour(CyclicBehaviour):\n",
        "        async def run(self):\n",
        "            # Implement research behavior\n",
        "            print(\"Researching...\")\n",
        "            # Send a message to CriticAgent\n",
        "            msg = Message(to=\"critic@your_xmpp_server\")  # Replace with the CriticAgent's JID\n",
        "            msg.set_metadata(\"performative\", \"inform\")\n",
        "            msg.body = \"Research complete\"\n",
        "            await self.send(msg)\n",
        "            print(\"Message sent to CriticAgent\")\n",
        "\n",
        "    async def setup(self):\n",
        "        self.add_behaviour(self.ResearchBehaviour())"
      ],
      "metadata": {
        "id": "SFBGIcyGzq1f"
      },
      "execution_count": null,
      "outputs": []
    },
    {
      "cell_type": "code",
      "source": [
        "class CriticAgent(Agent):\n",
        "    class CriticBehaviour(CyclicBehaviour):\n",
        "        async def run(self):\n",
        "            msg = await self.receive(timeout=10)  # Wait for a message for 10 seconds\n",
        "            if msg:\n",
        "                print(f\"Received message from {msg.sender}: {msg.body}\")\n",
        "                # Implement evaluation logic here\n",
        "\n",
        "    async def setup(self):\n",
        "        self.add_behaviour(self.CriticBehaviour())"
      ],
      "metadata": {
        "id": "05sT6Rpiz5zK"
      },
      "execution_count": null,
      "outputs": []
    },
    {
      "cell_type": "code",
      "source": [
        "class CoordinatorAgent(Agent):\n",
        "    class CoordinationBehaviour(CyclicBehaviour):\n",
        "        async def run(self):\n",
        "            # Implement task coordination logic\n",
        "            print(\"Coordinating tasks...\")\n",
        "            # Example: Send a message to ResearcherAgent to start research\n",
        "            msg = Message(to=\"researcher@your_xmpp_server\")  # Replace with the ResearcherAgent's JID\n",
        "            msg.set_metadata(\"performative\", \"request\")\n",
        "            msg.body = \"Start research\"\n",
        "            await self.send(msg)\n",
        "            print(\"Message sent to ResearcherAgent\")\n",
        "\n",
        "    async def setup(self):\n",
        "        self.add_behaviour(self.CoordinationBehaviour())"
      ],
      "metadata": {
        "id": "Jlvuizki0kFT"
      },
      "execution_count": null,
      "outputs": []
    },
    {
      "cell_type": "code",
      "source": [
        "class ResearcherAgent(Agent):\n",
        "    class ResearchBehaviour(CyclicBehaviour):\n",
        "        async def run(self):\n",
        "            # Implement research behavior\n",
        "            print(\"Researching...\")\n",
        "            # Notify CoordinatorAgent after completing research\n",
        "            msg = Message(to=\"coordinator@your_xmpp_server\")  # Replace with the CoordinatorAgent's JID\n",
        "            msg.set_metadata(\"performative\", \"inform\")\n",
        "            msg.body = \"Research complete\"\n",
        "            await self.send(msg)\n",
        "            print(\"Message sent to CoordinatorAgent\")\n",
        "\n",
        "    async def setup(self):\n",
        "        self.add_behaviour(self.ResearchBehaviour())"
      ],
      "metadata": {
        "id": "k5K63ihy0qHI"
      },
      "execution_count": null,
      "outputs": []
    },
    {
      "cell_type": "code",
      "source": [
        "class CriticAgent(Agent):\n",
        "    class CriticBehaviour(CyclicBehaviour):\n",
        "        async def run(self):\n",
        "            msg = await self.receive(timeout=10)  # Wait for a message for 10 seconds\n",
        "            if msg:\n",
        "                print(f\"Received message from {msg.sender}: {msg.body}\")\n",
        "                # Notify CoordinatorAgent after evaluation\n",
        "                response = Message(to=\"coordinator@your_xmpp_server\")  # Replace with the CoordinatorAgent's JID\n",
        "                response.set_metadata(\"performative\", \"inform\")\n",
        "                response.body = \"Evaluation complete\"\n",
        "                await self.send(response)\n",
        "                print(\"Message sent to CoordinatorAgent\")\n",
        "\n",
        "    async def setup(self):\n",
        "        self.add_behaviour(self.CriticBehaviour())"
      ],
      "metadata": {
        "id": "s4abfZNS03OM"
      },
      "execution_count": null,
      "outputs": []
    },
    {
      "cell_type": "code",
      "source": [
        "class EditorAgent(Agent):\n",
        "    class EditBehaviour(CyclicBehaviour):\n",
        "        async def run(self):\n",
        "            # Implement editing behavior\n",
        "            print(\"Editing...\")\n",
        "            # Notify CoordinatorAgent after organizing information\n",
        "            msg = Message(to=\"coordinator@your_xmpp_server\")  # Replace with the CoordinatorAgent's JID\n",
        "            msg.set_metadata(\"performative\", \"inform\")\n",
        "            msg.body = \"Editing complete\"\n",
        "            await self.send(msg)\n",
        "            print(\"Message sent to CoordinatorAgent\")\n",
        "\n",
        "    async def setup(self):\n",
        "        self.add_behaviour(self.EditBehaviour())"
      ],
      "metadata": {
        "id": "2SOvgWLW09Zh"
      },
      "execution_count": null,
      "outputs": []
    },
    {
      "cell_type": "code",
      "source": [
        "class ResearcherAgent(Agent):\n",
        "    class ResearchBehaviour(CyclicBehaviour):\n",
        "        def __init__(self, memory):\n",
        "            super().__init__()\n",
        "            self.memory = memory\n",
        "\n",
        "        async def run(self):\n",
        "            # Input Processing: Interpret user requests\n",
        "            msg = await self.receive(timeout=10)  # Wait for a message for 10 seconds\n",
        "            if msg:\n",
        "                print(f\"Received message: {msg.body}\")\n",
        "                # Reasoning Component: Decide on action based on message\n",
        "                if msg.body == \"Start research\":\n",
        "                    # Perform research (placeholder for actual research logic)\n",
        "                    research_result = \"Research data\"\n",
        "                    # Store result in memory\n",
        "                    self.memory.append(research_result)\n",
        "                    # Output Generation: Notify CoordinatorAgent\n",
        "                    response = Message(to=\"coordinator@your_xmpp_server\")  # Replace with the CoordinatorAgent's JID\n",
        "                    response.set_metadata(\"performative\", \"inform\")\n",
        "                    response.body = \"Research complete\"\n",
        "                    await self.send(response)\n",
        "                    print(\"Research complete, message sent to CoordinatorAgent\")\n",
        "\n",
        "    async def setup(self):\n",
        "        # Memory System: Initialize memory\n",
        "        self.memory = []\n",
        "        self.add_behaviour(self.ResearchBehaviour(self.memory))"
      ],
      "metadata": {
        "id": "2RzUtXyq11SL"
      },
      "execution_count": null,
      "outputs": []
    },
    {
      "cell_type": "code",
      "source": [
        "class CriticAgent(Agent):\n",
        "    class CriticBehaviour(CyclicBehaviour):\n",
        "        def __init__(self, memory):\n",
        "            super().__init__()\n",
        "            self.memory = memory\n",
        "\n",
        "        async def run(self):\n",
        "            # Input Processing: Interpret messages from other agents\n",
        "            msg = await self.receive(timeout=10)  # Wait for a message for 10 seconds\n",
        "            if msg:\n",
        "                print(f\"Received message from {msg.sender}: {msg.body}\")\n",
        "                # Reasoning Component: Evaluate information\n",
        "                evaluation_result = f\"Evaluation of {msg.body}\"  # Placeholder for actual evaluation logic\n",
        "                # Store result in memory\n",
        "                self.memory.append(evaluation_result)\n",
        "                # Output Generation: Notify CoordinatorAgent\n",
        "                response = Message(to=\"coordinator@your_xmpp_server\")  # Replace with the CoordinatorAgent's JID\n",
        "                response.set_metadata(\"performative\", \"inform\")\n",
        "                response.body = \"Evaluation complete\"\n",
        "                await self.send(response)\n",
        "                print(\"Evaluation complete, message sent to CoordinatorAgent\")\n",
        "\n",
        "    async def setup(self):\n",
        "        # Memory System: Initialize memory\n",
        "        self.memory = []\n",
        "        self.add_behaviour(self.CriticBehaviour(self.memory))"
      ],
      "metadata": {
        "id": "wytQRzug19Wt"
      },
      "execution_count": null,
      "outputs": []
    },
    {
      "cell_type": "code",
      "source": [
        "class EditorAgent(Agent):\n",
        "    class EditBehaviour(CyclicBehaviour):\n",
        "        def __init__(self, memory):\n",
        "            super().__init__()\n",
        "            self.memory = memory\n",
        "\n",
        "        async def run(self):\n",
        "            # Input Processing: Interpret messages from other agents\n",
        "            msg = await self.receive(timeout=10)  # Wait for a message for 10 seconds\n",
        "            if msg:\n",
        "                print(f\"Received message from {msg.sender}: {msg.body}\")\n",
        "                # Reasoning Component: Organize and synthesize information\n",
        "                editing_result = f\"Edited version of {msg.body}\"  # Placeholder for actual editing logic\n",
        "                # Store result in memory\n",
        "                self.memory.append(editing_result)\n",
        "                # Output Generation: Notify CoordinatorAgent\n",
        "                response = Message(to=\"coordinator@your_xmpp_server\")  # Replace with the CoordinatorAgent's JID\n",
        "                response.set_metadata(\"performative\", \"inform\")\n",
        "                response.body = \"Editing complete\"\n",
        "                await self.send(response)\n",
        "                print(\"Editing complete, message sent to CoordinatorAgent\")\n",
        "\n",
        "    async def setup(self):\n",
        "        # Memory System: Initialize memory\n",
        "        self.memory = []\n",
        "        self.add_behaviour(self.EditBehaviour(self.memory))"
      ],
      "metadata": {
        "id": "C4uWeVec2Dgb"
      },
      "execution_count": null,
      "outputs": []
    },
    {
      "cell_type": "code",
      "source": [
        "import requests\n",
        "\n",
        "class ResearcherAgent(Agent):\n",
        "    class ResearchBehaviour(CyclicBehaviour):\n",
        "        def __init__(self, memory):\n",
        "            super().__init__()\n",
        "            self.memory = memory\n",
        "\n",
        "        async def run(self):\n",
        "            # Input Processing: Interpret user requests\n",
        "            msg = await self.receive(timeout=10)  # Wait for a message for 10 seconds\n",
        "            if msg:\n",
        "                print(f\"Received message: {msg.body}\")\n",
        "                # Determine when to use web search tool\n",
        "                if msg.body == \"Start research\":\n",
        "                    try:\n",
        "                        # Web Search Capabilities: Use a web search API\n",
        "                        search_query = \"multi-agent systems\"\n",
        "                        search_results = self.perform_web_search(search_query)\n",
        "                        # Interpret and store search results in memory\n",
        "                        self.memory.append(search_results)\n",
        "                        # Output Generation: Notify CoordinatorAgent\n",
        "                        response = Message(to=\"coordinator@your_xmpp_server\")  # Replace with the CoordinatorAgent's JID\n",
        "                        response.set_metadata(\"performative\", \"inform\")\n",
        "                        response.body = \"Research complete\"\n",
        "                        await self.send(response)\n",
        "                        print(\"Research complete, message sent to CoordinatorAgent\")\n",
        "                    except Exception as e:\n",
        "                        print(f\"Error during web search: {e}\")\n",
        "\n",
        "        def perform_web_search(self, query):\n",
        "            # Placeholder for actual web search logic using an API (e.g., Bing Search API)\n",
        "            # Here, we'll simulate a search result\n",
        "            return f\"Simulated search results for query: {query}\"\n",
        "\n",
        "    async def setup(self):\n",
        "        # Memory System: Initialize memory\n",
        "        self.memory = []\n",
        "        self.add_behaviour(self.ResearchBehaviour(self.memory))"
      ],
      "metadata": {
        "id": "wOUtrIl82e1y"
      },
      "execution_count": null,
      "outputs": []
    },
    {
      "cell_type": "code",
      "source": [
        "import spacy\n",
        "\n",
        "class EditorAgent(Agent):\n",
        "    class EditBehaviour(CyclicBehaviour):\n",
        "        def __init__(self, memory):\n",
        "            super().__init__()\n",
        "            self.memory = memory\n",
        "            self.nlp = spacy.load('en_core_web_sm')  # Load spaCy model\n",
        "\n",
        "        async def run(self):\n",
        "            # Input Processing: Interpret messages from other agents\n",
        "            msg = await self.receive(timeout=10)  # Wait for a message for 10 seconds\n",
        "            if msg:\n",
        "                print(f\"Received message from {msg.sender}: {msg.body}\")\n",
        "                try:\n",
        "                    # Document Processing: Analyze and summarize text\n",
        "                    doc = self.nlp(msg.body)\n",
        "                    summary = self.summarize_text(doc)\n",
        "                    # Store result in memory\n",
        "                    self.memory.append(summary)\n",
        "                    # Output Generation: Notify CoordinatorAgent\n",
        "                    response = Message(to=\"coordinator@your_xmpp_server\")  # Replace with the CoordinatorAgent's JID\n",
        "                    response.set_metadata(\"performative\", \"inform\")\n",
        "                    response.body = \"Editing complete\"\n",
        "                    await self.send(response)\n",
        "                    print(\"Editing complete, message sent to CoordinatorAgent\")\n",
        "                except Exception as e:\n",
        "                    print(f\"Error during document processing: {e}\")\n",
        "\n",
        "        def summarize_text(self, doc):\n",
        "            # Placeholder for actual text summarization logic\n",
        "            return \"Summarized text\"\n",
        "\n",
        "    async def setup(self):\n",
        "        # Memory System: Initialize memory\n",
        "        self.memory = []\n",
        "        self.add_behaviour(self.EditBehaviour(self.memory))"
      ],
      "metadata": {
        "id": "z5-o_XZJ2lTT"
      },
      "execution_count": null,
      "outputs": []
    },
    {
      "cell_type": "code",
      "source": [
        "class CoordinatorAgent(Agent):\n",
        "    class CoordinationBehaviour(CyclicBehaviour):\n",
        "        def __init__(self):\n",
        "            super().__init__()\n",
        "            self.feedback = {}  # Store feedback for agents\n",
        "\n",
        "        async def run(self):\n",
        "            # Input Processing: Receive feedback from the user\n",
        "            msg = await self.receive(timeout=10)  # Wait for a message for 10 seconds\n",
        "            if msg:\n",
        "                print(f\"Received message: {msg.body}\")\n",
        "                if msg.body.startswith(\"Feedback:\"):\n",
        "                    # Extract feedback and distribute to agents\n",
        "                    agent_feedback = msg.body.split(\":\", 1)[1]\n",
        "                    self.distribute_feedback(agent_feedback)\n",
        "                else:\n",
        "                    # Distribute tasks to other agents (e.g., ResearcherAgent, CriticAgent, EditorAgent)\n",
        "                    await self.distribute_tasks(msg.body)  # Add await here\n",
        "\n",
        "        def distribute_feedback(self, feedback):\n",
        "            # Parse feedback and store it for agents\n",
        "            self.feedback = feedback  # Simplified for demonstration\n",
        "            print(f\"Feedback stored: {self.feedback}\")\n",
        "\n",
        "        async def distribute_tasks(self, task):  # Make this an async function\n",
        "            # Placeholder for task distribution logic\n",
        "            print(f\"Distributing task: {task}\")\n",
        "            # Send task messages to other agents\n",
        "            # Example: Send task to ResearcherAgent\n",
        "            msg = Message(to=\"researcher@your_xmpp_server\")  # Replace with the ResearcherAgent's JID\n",
        "            msg.set_metadata(\"performative\", \"request\")\n",
        "            msg.body = task\n",
        "            await self.send(msg)  # Await the sending of the message\n",
        "\n",
        "    async def setup(self):\n",
        "        self.add_behaviour(self.CoordinationBehaviour())"
      ],
      "metadata": {
        "id": "yPUbGqOX21Zn"
      },
      "execution_count": null,
      "outputs": []
    },
    {
      "cell_type": "code",
      "source": [
        "class ResearcherAgent(Agent):\n",
        "    class ResearchBehaviour(CyclicBehaviour):\n",
        "        def __init__(self, memory):\n",
        "            super().__init__()\n",
        "            self.memory = memory\n",
        "            self.reward = 0  # Initialize reward\n",
        "\n",
        "        async def run(self):\n",
        "            # Input Processing: Interpret user requests\n",
        "            msg = await self.receive(timeout=10)  # Wait for a message for 10 seconds\n",
        "            if msg:\n",
        "                print(f\"Received message: {msg.body}\")\n",
        "                if msg.body == \"Start research\":\n",
        "                    try:\n",
        "                        # Web Search Capabilities: Use a web search API\n",
        "                        search_query = \"multi-agent systems\"\n",
        "                        search_results = self.perform_web_search(search_query)\n",
        "                        # Interpret and store search results in memory\n",
        "                        self.memory.append(search_results)\n",
        "                        # Output Generation: Notify CoordinatorAgent\n",
        "                        response = Message(to=\"coordinator@your_xmpp_server\")  # Replace with the CoordinatorAgent's JID\n",
        "                        response.set_metadata(\"performative\", \"inform\")\n",
        "                        response.body = \"Research complete\"\n",
        "                        await self.send(response)\n",
        "                        print(\"Research complete, message sent to CoordinatorAgent\")\n",
        "                        # Reward System: Assign reward for successful completion\n",
        "                        self.reward += 1\n",
        "                    except Exception as e:\n",
        "                        print(f\"Error during web search: {e}\")\n",
        "                        # Reward System: Penalize for failure\n",
        "                        self.reward -= 1\n",
        "                elif msg.body.startswith(\"Feedback:\"):\n",
        "                    # Policy Improvement: Adjust behavior based on feedback\n",
        "                    feedback = msg.body.split(\":\", 1)[1]\n",
        "                    self.adjust_policy(feedback)\n",
        "\n",
        "        def perform_web_search(self, query):\n",
        "            # Placeholder for actual web search logic using an API (e.g., Bing Search API)\n",
        "            # Here, we'll simulate a search result\n",
        "            return f\"Simulated search results for query: {query}\"\n",
        "\n",
        "        def adjust_policy(self, feedback):\n",
        "            # Placeholder for policy adjustment logic based on feedback\n",
        "            print(f\"Adjusting policy based on feedback: {feedback}\")\n",
        "\n",
        "    async def setup(self):\n",
        "        # Memory System: Initialize memory\n",
        "        self.memory = []\n",
        "        self.add_behaviour(self.ResearchBehaviour(self.memory))"
      ],
      "metadata": {
        "id": "5bgIE46c28EP"
      },
      "execution_count": null,
      "outputs": []
    },
    {
      "cell_type": "code",
      "source": [
        "class EditorAgent(Agent):\n",
        "    class EditBehaviour(CyclicBehaviour):\n",
        "        def __init__(self, memory):\n",
        "            super().__init__()\n",
        "            self.memory = memory\n",
        "            self.nlp = spacy.load('en_core_web_sm')  # Load spaCy model\n",
        "            self.reward = 0  # Initialize reward\n",
        "\n",
        "        async def run(self):\n",
        "            # Input Processing: Interpret messages from other agents\n",
        "            msg = await self.receive(timeout=10)  # Wait for a message for 10 seconds\n",
        "            if msg:\n",
        "                print(f\"Received message from {msg.sender}: {msg.body}\")\n",
        "                try:\n",
        "                    # Document Processing: Analyze and summarize text\n",
        "                    doc = self.nlp(msg.body)\n",
        "                    summary = self.summarize_text(doc)\n",
        "                    # Store result in memory\n",
        "                    self.memory.append(summary)\n",
        "                    # Output Generation: Notify CoordinatorAgent\n",
        "                    response = Message(to=\"coordinator@your_xmpp_server\")  # Replace with the CoordinatorAgent's JID\n",
        "                    response.set_metadata(\"performative\", \"inform\")\n",
        "                    response.body = \"Editing complete\"\n",
        "                    await self.send(response)\n",
        "                    print(\"Editing complete, message sent to CoordinatorAgent\")\n",
        "                    # Reward System: Assign reward for successful completion\n",
        "                    self.reward += 1\n",
        "                except Exception as e:\n",
        "                    print(f\"Error during document processing: {e}\")\n",
        "                    # Reward System: Penalize for failure\n",
        "                    self.reward -= 1\n",
        "                if msg.body.startswith(\"Feedback:\"):\n",
        "                    # Policy Improvement: Adjust behavior based on feedback\n",
        "                    feedback = msg.body.split(\":\", 1)[1]\n",
        "                    self.adjust_policy(feedback)\n",
        "\n",
        "        def summarize_text(self, doc):\n",
        "            # Placeholder for actual text summarization logic\n",
        "            return \"Summarized text\"\n",
        "\n",
        "        def adjust_policy(self, feedback):\n",
        "            # Placeholder for policy adjustment logic based on feedback\n",
        "            print(f\"Adjusting policy based on feedback: {feedback}\")\n",
        "\n",
        "    async def setup(self):\n",
        "        # Memory System: Initialize memory\n",
        "        self.memory = []\n",
        "        self.add_behaviour(self.EditBehaviour(self.memory))"
      ],
      "metadata": {
        "id": "CiK9uYBS3Ib-"
      },
      "execution_count": null,
      "outputs": []
    },
    {
      "cell_type": "code",
      "source": [
        "class CoordinatorAgent(Agent):\n",
        "    class CoordinationBehaviour(CyclicBehaviour):\n",
        "        def __init__(self):\n",
        "            super().__init__()\n",
        "            self.feedback = {}  # Store feedback for agents\n",
        "\n",
        "        async def run(self):\n",
        "            # Input Processing: Receive feedback from the user\n",
        "            msg = await self.receive(timeout=10)  # Wait for a message for 10 seconds\n",
        "            if msg:\n",
        "                print(f\"Received message: {msg.body}\")\n",
        "                if msg.body.startswith(\"Feedback:\"):\n",
        "                    # Extract feedback and distribute to agents\n",
        "                    agent_feedback = msg.body.split(\":\", 1)[1]\n",
        "                    self.distribute_feedback(agent_feedback)\n",
        "                else:\n",
        "                    # Input Validation: Screen for inappropriate or harmful requests\n",
        "                    if self.is_valid_request(msg.body):\n",
        "                        # Distribute tasks to other agents (e.g., ResearcherAgent, CriticAgent, EditorAgent)\n",
        "                        await self.distribute_tasks(msg.body)  # Added await here\n",
        "                    else:\n",
        "                        # Fallback Strategy: Respond to invalid requests\n",
        "                        response = Message(to=msg.sender)\n",
        "                        response.set_metadata(\"performative\", \"inform\")\n",
        "                        response.body = \"Invalid request.\"\n",
        "                        await self.send(response)\n",
        "                        print(\"Invalid request, response sent to user.\")\n",
        "\n",
        "        def distribute_feedback(self, feedback):\n",
        "            # Parse feedback and store it for agents\n",
        "            self.feedback = feedback  # Simplified for demonstration\n",
        "            print(f\"Feedback stored: {self.feedback}\")\n",
        "\n",
        "        async def distribute_tasks(self, task):  # Made this an async function\n",
        "            # Placeholder for task distribution logic\n",
        "            print(f\"Distributing task: {task}\")\n",
        "            # Send task messages to other agents\n",
        "            # Example: Send task to ResearcherAgent\n",
        "            msg = Message(to=\"researcher@your_xmpp_server\")  # Replace with the ResearcherAgent's JID\n",
        "            msg.set_metadata(\"performative\", \"request\")\n",
        "            msg.body = task\n",
        "            await self.send(msg)\n",
        "\n",
        "        def is_valid_request(self, request):\n",
        "            # Boundary Enforcement: Define limitations on requests\n",
        "            # Placeholder for actual validation logic\n",
        "            if \"forbidden\" in request.lower():\n",
        "                return False\n",
        "            return True\n",
        "\n",
        "    async def setup(self):\n",
        "        self.add_behaviour(self.CoordinationBehaviour())"
      ],
      "metadata": {
        "id": "3iwI9_NM3TQm"
      },
      "execution_count": null,
      "outputs": []
    },
    {
      "cell_type": "code",
      "source": [
        "class ResearchAgent(Agent):\n",
        "    def process_request(self, request):\n",
        "        # Implement research logic\n",
        "        result = f\"Research results for: {request}\"\n",
        "        return result\n",
        "\n",
        "class CriticAgent(Agent):\n",
        "    def process_request(self, request):\n",
        "        # Implement critique logic\n",
        "        result = f\"Critique for: {request}\"\n",
        "        return result\n",
        "\n",
        "class EditorAgent(Agent):\n",
        "    def process_request(self, request):\n",
        "        # Implement editing logic\n",
        "        result = f\"Edited document for: {request}\"\n",
        "        return result"
      ],
      "metadata": {
        "id": "KzLYhXybKKJo"
      },
      "execution_count": null,
      "outputs": []
    },
    {
      "cell_type": "code",
      "source": [
        "from spade.agent import Agent\n",
        "\n",
        "class CustomAgent(Agent):\n",
        "    async def _async_connect(self):\n",
        "        self.client.add_event_handler(\"session_start\", self._on_start)\n",
        "        self.client.add_event_handler(\"message\", self._message_received)\n",
        "\n",
        "        # Use host and port directly instead of the 'address' argument\n",
        "        self.client.connect(host=self.jid.host, port=self.xmpp_port)\n",
        "\n",
        "        # Wait for connection setup\n",
        "        done, pending = await asyncio.wait(\n",
        "            [\n",
        "                self.client.session_started_event.wait(),\n",
        "                self.client.disconnected_event.wait(),\n",
        "            ],\n",
        "            return_when=asyncio.FIRST_COMPLETED,\n",
        "        )\n",
        "\n",
        "        if self.client.disconnected_event.is_set():\n",
        "            raise Exception(\"Cannot connect to server.\")"
      ],
      "metadata": {
        "id": "TkjFP9jH3eFu"
      },
      "execution_count": null,
      "outputs": []
    }
  ]
}